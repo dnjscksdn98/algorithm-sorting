{
 "cells": [
  {
   "cell_type": "markdown",
   "metadata": {},
   "source": [
    "### #1. Bubble Sort (버블 정렬)"
   ]
  },
  {
   "cell_type": "markdown",
   "metadata": {},
   "source": [
    "- 오름차순: 가장 큰 값이 순차적으로 뒤에서부터 정렬됨"
   ]
  },
  {
   "cell_type": "code",
   "execution_count": 1,
   "metadata": {},
   "outputs": [],
   "source": [
    "def bubble_sort(data):\n",
    "    for i in range(len(data) - 1):\n",
    "        swap = False\n",
    "        \n",
    "        for k in range(len(data) - i - 1):\n",
    "            if data[k] > data[k + 1]:\n",
    "                data[k], data[k + 1] = data[k + 1], data[k]\n",
    "                swap = True\n",
    "                \n",
    "        if swap == False:\n",
    "            break\n",
    "            \n",
    "    return data"
   ]
  },
  {
   "cell_type": "code",
   "execution_count": 2,
   "metadata": {},
   "outputs": [
    {
     "name": "stdout",
     "output_type": "stream",
     "text": [
      "[1, 2, 3, 4, 5, 6, 7, 8, 14, 16, 17, 18, 20, 21, 24, 25, 27, 28, 30, 32, 33, 36, 39, 42, 45, 46, 49, 51, 52, 55, 58, 60, 65, 72, 73, 74, 75, 76, 79, 80, 83, 84, 85, 87, 88, 91, 92, 94, 98, 99]\n"
     ]
    }
   ],
   "source": [
    "import random\n",
    "\n",
    "data = random.sample(range(100), 50)\n",
    "print(bubble_sort(data))"
   ]
  },
  {
   "cell_type": "markdown",
   "metadata": {},
   "source": [
    "### #2. Selection Sort (선택 정렬)"
   ]
  },
  {
   "cell_type": "markdown",
   "metadata": {},
   "source": [
    "- 오름차순: 가장 작은 값이 순차적으로 앞에서부터 정렬됨"
   ]
  },
  {
   "cell_type": "code",
   "execution_count": 10,
   "metadata": {},
   "outputs": [],
   "source": [
    "def selection_sort(data):\n",
    "    for i in range(len(data) - 1):\n",
    "        min_index = i\n",
    "        \n",
    "        for k in range(i + 1, len(data)):\n",
    "            if data[min_index] > data[k]:\n",
    "                min_index = k\n",
    "        data[i], data[min_index] = data[min_index], data[i]\n",
    "    \n",
    "    return data"
   ]
  },
  {
   "cell_type": "code",
   "execution_count": 11,
   "metadata": {},
   "outputs": [],
   "source": [
    "data = random.sample(range(100), 50)"
   ]
  },
  {
   "cell_type": "code",
   "execution_count": 12,
   "metadata": {},
   "outputs": [
    {
     "name": "stdout",
     "output_type": "stream",
     "text": [
      "[0, 2, 3, 5, 8, 9, 10, 13, 17, 20, 22, 23, 24, 26, 28, 29, 32, 33, 34, 38, 40, 41, 42, 43, 45, 49, 50, 54, 60, 61, 63, 64, 65, 66, 67, 68, 72, 76, 77, 78, 79, 80, 83, 85, 87, 88, 89, 96, 98, 99]\n"
     ]
    }
   ],
   "source": [
    "print(selection_sort(data))"
   ]
  },
  {
   "cell_type": "markdown",
   "metadata": {},
   "source": [
    "### #3. Insertion Sort (삽입 정렬)"
   ]
  },
  {
   "cell_type": "markdown",
   "metadata": {},
   "source": [
    "- 오름차순: 가장 작은 값이 순차적으로 앞에서부터 정렬됨"
   ]
  },
  {
   "cell_type": "code",
   "execution_count": 16,
   "metadata": {},
   "outputs": [],
   "source": [
    "def insertion_sort(data):\n",
    "    for i in range(len(data) - 1):\n",
    "        for k in range(i + 1, 0, -1):\n",
    "            if data[k] < data[k - 1]:\n",
    "                data[k], data[k - 1] = data[k - 1], data[k]\n",
    "            else:\n",
    "                break\n",
    "    \n",
    "    return data"
   ]
  },
  {
   "cell_type": "code",
   "execution_count": 20,
   "metadata": {},
   "outputs": [],
   "source": [
    "def insertion_sort2(data):\n",
    "    for i in range(len(data)):\n",
    "        key = data[i]\n",
    "        for k in range(i, 0, -1):\n",
    "            if key < data[k - 1]:\n",
    "                data[k], data[k - 1] = data[k - 1], data[k]\n",
    "            else:\n",
    "                break\n",
    "    return data"
   ]
  },
  {
   "cell_type": "code",
   "execution_count": 23,
   "metadata": {},
   "outputs": [
    {
     "name": "stdout",
     "output_type": "stream",
     "text": [
      "[1, 4, 9, 13, 23, 25, 30, 34, 41, 42]\n"
     ]
    }
   ],
   "source": [
    "data = random.sample(range(50), 10)\n",
    "print(insertion_sort2(data))"
   ]
  },
  {
   "cell_type": "markdown",
   "metadata": {},
   "source": [
    "### #4. Quick Sort (퀵 정렬)"
   ]
  },
  {
   "cell_type": "markdown",
   "metadata": {},
   "source": [
    "- 분할 정복 기법"
   ]
  },
  {
   "cell_type": "code",
   "execution_count": 28,
   "metadata": {},
   "outputs": [],
   "source": [
    "def quick_sort(data):\n",
    "    if len(data) <= 1:\n",
    "        return data\n",
    "    \n",
    "    pivot = data[0]\n",
    "    left = list()\n",
    "    right = list()\n",
    "    \n",
    "    for index in range(1, len(data)):\n",
    "        if pivot > data[index]:\n",
    "            left.append(data[index])\n",
    "        else:\n",
    "            right.append(data[index])\n",
    "    \n",
    "    return quick_sort(left) + [pivot] + quick_sort(right)"
   ]
  },
  {
   "cell_type": "code",
   "execution_count": 31,
   "metadata": {},
   "outputs": [],
   "source": [
    "def quick_sort2(data):\n",
    "    if len(data) <= 1:\n",
    "        return data\n",
    "    \n",
    "    pivot = data[0]\n",
    "    \n",
    "    left = [ item for item in data[1:] if pivot > item ]\n",
    "    right = [ item for item in data[1:] if pivot <= item ]\n",
    "    \n",
    "    return quick_sort2(left) + [pivot] + quick_sort2(right)"
   ]
  },
  {
   "cell_type": "code",
   "execution_count": 33,
   "metadata": {},
   "outputs": [
    {
     "name": "stdout",
     "output_type": "stream",
     "text": [
      "[1, 7, 8, 12, 16, 23, 36, 37, 38, 43]\n",
      "[1, 7, 8, 12, 16, 23, 36, 37, 38, 43]\n"
     ]
    }
   ],
   "source": [
    "data = random.sample(range(50), 10)\n",
    "print(quick_sort(data))\n",
    "print(quick_sort2(data))"
   ]
  },
  {
   "cell_type": "markdown",
   "metadata": {},
   "source": [
    "### #5. Merge Sort (병합 정렬, 합병 정렬)"
   ]
  },
  {
   "cell_type": "markdown",
   "metadata": {},
   "source": [
    "- 분할 정복 기법"
   ]
  },
  {
   "cell_type": "code",
   "execution_count": 34,
   "metadata": {},
   "outputs": [],
   "source": [
    "def merge_split(data):\n",
    "    if len(data) <= 1:\n",
    "        return data\n",
    "    \n",
    "    medium = len(data) // 2\n",
    "    left = data[:medium]\n",
    "    right = data[medium:]\n",
    "    \n",
    "    return merge(merge_split(left), merge_split(right))"
   ]
  },
  {
   "cell_type": "code",
   "execution_count": 35,
   "metadata": {},
   "outputs": [],
   "source": [
    "def merge(left, right):\n",
    "    merge_list = list()\n",
    "    left_index = 0\n",
    "    right_index = 0\n",
    "    \n",
    "    # left / right 둘 다 데이터가 남았을 때\n",
    "    while len(left) > left_index and len(right) > right_index:\n",
    "        if left[left_index] < right[right_index]:\n",
    "            merge_list.append(left[left_index])\n",
    "            left_index += 1\n",
    "\n",
    "        else:\n",
    "            merge_list.append(right[right_index])\n",
    "            right_index += 1\n",
    "    \n",
    "    # left에서 데이터가 남았을 때\n",
    "    while len(left) > left_index:\n",
    "        merge_list.append(left[left_index])\n",
    "        left_index += 1\n",
    "        \n",
    "    # right에서 데이터가 남았을 때\n",
    "    while len(right) > right_index:\n",
    "        merge_list.append(right[right_index])\n",
    "        right_index += 1\n",
    "        \n",
    "    return merge_list"
   ]
  },
  {
   "cell_type": "code",
   "execution_count": 41,
   "metadata": {},
   "outputs": [
    {
     "data": {
      "text/plain": [
       "[3, 5, 6, 8, 20, 31, 32, 36, 47, 48]"
      ]
     },
     "execution_count": 41,
     "metadata": {},
     "output_type": "execute_result"
    }
   ],
   "source": [
    "data = random.sample(range(50), 10)\n",
    "merge_split(data)"
   ]
  }
 ],
 "metadata": {
  "kernelspec": {
   "display_name": "Python 3",
   "language": "python",
   "name": "python3"
  },
  "language_info": {
   "codemirror_mode": {
    "name": "ipython",
    "version": 3
   },
   "file_extension": ".py",
   "mimetype": "text/x-python",
   "name": "python",
   "nbconvert_exporter": "python",
   "pygments_lexer": "ipython3",
   "version": "3.6.9"
  }
 },
 "nbformat": 4,
 "nbformat_minor": 2
}
